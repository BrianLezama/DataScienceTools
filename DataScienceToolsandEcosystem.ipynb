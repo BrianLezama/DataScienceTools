{
 "cells": [
  {
   "cell_type": "markdown",
   "id": "d158792d",
   "metadata": {},
   "source": [
    "# Data Science Tools and Ecosystem"
   ]
  },
  {
   "cell_type": "markdown",
   "id": "e695a150",
   "metadata": {},
   "source": [
    "**Objectives:**\n",
    "+ Popular languages used by Data Scientist\n",
    "+ commonly used libraries used by Data Scientist \n",
    "+ some open-source environments used by Data Scientist \n",
    "+ examples of arithmetic in Jupyter"
   ]
  },
  {
   "attachments": {},
   "cell_type": "markdown",
   "id": "2ff87691",
   "metadata": {},
   "source": [
    "## Author\n",
    "Brian Lezama"
   ]
  },
  {
   "cell_type": "markdown",
   "id": "c06b654f",
   "metadata": {},
   "source": [
    "In this notebook, Data Science Tools and Ecosystem are summarized."
   ]
  },
  {
   "cell_type": "markdown",
   "id": "c02cb1ca",
   "metadata": {},
   "source": [
    "Some popular languages that Data Scientist use are: \n",
    "1. Python \n",
    "2. R \n",
    "3. SQL\n",
    "4. Scala\n",
    "5. Julia\n",
    "6. Java"
   ]
  },
  {
   "cell_type": "markdown",
   "id": "62dff8fa",
   "metadata": {},
   "source": [
    "Some of the commonly used libraries used by Data Scientist include: \n",
    "1. Pandas (python) \n",
    "2. Scikit-learn (python)\n",
    "3. ggplot2 (R) \n",
    " "
   ]
  },
  {
   "cell_type": "markdown",
   "id": "0da36e07",
   "metadata": {},
   "source": [
    "| Data Science Tools | \n",
    "| ----- |\n",
    "| Jupyter | \n",
    "| RStudio |\n",
    "| Spyder | "
   ]
  },
  {
   "cell_type": "markdown",
   "id": "1629e15b",
   "metadata": {},
   "source": [
    "### Below are a few examples of evaluating arithmetic expressions in Python."
   ]
  },
  {
   "cell_type": "markdown",
   "id": "a35a7dfe",
   "metadata": {},
   "source": [
    "This is a simple arithmetic expression to multiply then add numbers."
   ]
  },
  {
   "cell_type": "code",
   "execution_count": 5,
   "id": "561e8313",
   "metadata": {},
   "outputs": [
    {
     "data": {
      "text/plain": [
       "17"
      ]
     },
     "execution_count": 5,
     "metadata": {},
     "output_type": "execute_result"
    }
   ],
   "source": [
    "(3*4) + 5"
   ]
  },
  {
   "cell_type": "markdown",
   "id": "6062344d",
   "metadata": {},
   "source": [
    "This will convert 200 minutes to hours by dividing by 60."
   ]
  },
  {
   "cell_type": "code",
   "execution_count": 6,
   "id": "e6ec11ba",
   "metadata": {},
   "outputs": [
    {
     "data": {
      "text/plain": [
       "3.3333333333333335"
      ]
     },
     "execution_count": 6,
     "metadata": {},
     "output_type": "execute_result"
    }
   ],
   "source": [
    "200 / 60 "
   ]
  }
 ],
 "metadata": {
  "kernelspec": {
   "display_name": "Python 3 (ipykernel)",
   "language": "python",
   "name": "python3"
  },
  "language_info": {
   "codemirror_mode": {
    "name": "ipython",
    "version": 3
   },
   "file_extension": ".py",
   "mimetype": "text/x-python",
   "name": "python",
   "nbconvert_exporter": "python",
   "pygments_lexer": "ipython3",
   "version": "3.11.4"
  }
 },
 "nbformat": 4,
 "nbformat_minor": 5
}
